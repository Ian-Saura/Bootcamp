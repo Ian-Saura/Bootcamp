{
 "cells": [
  {
   "cell_type": "code",
   "execution_count": null,
   "id": "245b58eb",
   "metadata": {},
   "outputs": [],
   "source": [
    "# CONFIG & PARAMS\n",
    "import pandas as pd\n",
    "from pathlib import Path\n",
    "from datetime import datetime\n",
    "\n",
    "INPUT_PATH = Path(\"ventas.csv\")\n",
    "OUTPUT_DIR = Path(\"outputs\")\n",
    "OUTPUT_DIR.mkdir(exist_ok=True)\n",
    "\n",
    "# parámetros reusables\n",
    "FECHA_DESDE = \"2025-07-01\"\n",
    "FECHA_HASTA = \"2025-07-31\"\n"
   ]
  },
  {
   "cell_type": "code",
   "execution_count": null,
   "id": "bfc933cd",
   "metadata": {},
   "outputs": [],
   "source": [
    "# EXTRACT ─ cargar datos crudos\n",
    "df = pd.read_csv(INPUT_PATH)\n",
    "display(df.head())\n",
    "print(df.dtypes)\n",
    "print(\"Filas crudas:\", len(df))\n"
   ]
  },
  {
   "cell_type": "code",
   "execution_count": null,
   "id": "03a0ef7e",
   "metadata": {},
   "outputs": [],
   "source": [
    "# CLEAN ─ normalizar nombres y tipos\n",
    "df.columns = (df.columns\n",
    "                .str.strip().str.lower().str.replace(\" \", \"_\"))\n",
    "\n",
    "# tipado seguro\n",
    "for c in (\"precio\", \"cantidad\"):\n",
    "    df[c] = pd.to_numeric(df[c], errors=\"coerce\")\n",
    "\n",
    "# limpieza básica\n",
    "df[\"categoria\"] = df[\"categoria\"].astype(str).str.strip().str.title()\n",
    "\n",
    "# validar nulos críticos\n",
    "nulls = df[[\"precio\",\"cantidad\"]].isna().sum().sum()\n",
    "print(\"Nulos en precio/cantidad:\", nulls)\n",
    "df = df.dropna(subset=[\"precio\",\"cantidad\"])\n",
    "print(\"Filas post-clean:\", len(df))\n"
   ]
  },
  {
   "cell_type": "code",
   "execution_count": null,
   "id": "e3a3e365",
   "metadata": {},
   "outputs": [],
   "source": [
    "# TRANSFORM ─ crear métricas\n",
    "df[\"ingresos\"] = df[\"precio\"] * df[\"cantidad\"]\n",
    "\n",
    "# filtro temporal parametrizado\n",
    "mask = df[\"fecha\"].between(FECHA_DESDE, FECHA_HASTA)\n",
    "df_mes = df.loc[mask].copy()\n",
    "\n",
    "print(\"Filas periodo:\", len(df_mes))\n"
   ]
  },
  {
   "cell_type": "code",
   "execution_count": null,
   "id": "6e858002",
   "metadata": {},
   "outputs": [],
   "source": [
    "# AGG ─ resumen por categoría\n",
    "reporte = (df_mes\n",
    "           .groupby(\"categoria\", dropna=False)[\"ingresos\"]\n",
    "           .sum()\n",
    "           .reset_index()\n",
    "           .sort_values(\"ingresos\", ascending=False))\n",
    "display(reporte.head(10))\n"
   ]
  },
  {
   "cell_type": "code",
   "execution_count": null,
   "id": "10e429ce",
   "metadata": {},
   "outputs": [],
   "source": [
    "# VALIDATIONS ─ garantías básicas\n",
    "assert (reporte[\"ingresos\"] >= 0).all(), \"Ingresos negativos detectados\"\n",
    "assert not reporte[\"categoria\"].isna().any(), \"Categorías nulas en el reporte\"\n",
    "print(\"Validaciones OK ✅\")\n"
   ]
  },
  {
   "cell_type": "code",
   "execution_count": null,
   "id": "ae576e49",
   "metadata": {},
   "outputs": [],
   "source": [
    "# LOAD ─ persistir salida versionada\n",
    "ts = datetime.now().strftime(\"%Y%m%d_%H%M%S\")\n",
    "out_path = OUTPUT_DIR / f\"reporte_categorias_{FECHA_DESDE}_{FECHA_HASTA}_{ts}.csv\"\n",
    "reporte.to_csv(out_path, index=False)\n",
    "print(\"Guardado:\", out_path)\n"
   ]
  }
 ],
 "metadata": {
  "language_info": {
   "name": "python"
  }
 },
 "nbformat": 4,
 "nbformat_minor": 5
}
