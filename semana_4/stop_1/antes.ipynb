{
 "cells": [
  {
   "cell_type": "code",
   "execution_count": null,
   "id": "245b58eb",
   "metadata": {},
   "outputs": [],
   "source": [
    "# ad_hoc.py — “lo hice una vez y funcionó”\n",
    "import pandas as pd\n",
    "\n",
    "df = pd.read_csv(\"ventas.csv\")\n",
    "df[\"ingresos\"] = df[\"precio\"] * df[\"cantidad\"]\n",
    "res = (df[df[\"fecha\"].between(\"2025-07-01\", \"2025-07-31\")]\n",
    "         .groupby(\"categoria\")[\"ingresos\"]\n",
    "         .sum()\n",
    "         .sort_values(ascending=False))\n",
    "print(res.head())\n",
    "# sin doc, sin validación, fechas hardcodeadas, rutas fijas…\n"
   ]
  }
 ],
 "metadata": {
  "language_info": {
   "name": "python"
  }
 },
 "nbformat": 4,
 "nbformat_minor": 5
}
