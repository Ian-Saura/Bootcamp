{
 "cells": [
  {
   "cell_type": "markdown",
   "id": "a93acc35",
   "metadata": {},
   "source": [
    "# Stop 2 — De consultas a pasos de pipeline (SQLite demo)\n",
    "Este notebook: (1) carga `ventas_stop2.csv` a SQLite, (2) ejecuta `stg_ventas.sql`, `trf_ventas.sql`, `agg_ventas_categoria.sql`, y (3) muestra los resultados."
   ]
  },
  {
   "cell_type": "code",
   "execution_count": null,
   "id": "b5009aa4",
   "metadata": {},
   "outputs": [],
   "source": [
    "# Setup: crear base SQLite y tabla ventas desde CSV\n",
    "import pandas as pd, sqlite3, os\n",
    "from pathlib import Path\n",
    "\n",
    "csv_path = Path(\"/mnt/data/ventas_stop2.csv\")\n",
    "db_path = Path(\"/mnt/data/stop2.db\")\n",
    "\n",
    "# (Re)crear DB limpia\n",
    "if db_path.exists():\n",
    "    os.remove(db_path)\n",
    "\n",
    "conn = sqlite3.connect(db_path)\n",
    "df = pd.read_csv(csv_path)\n",
    "df.to_sql(\"ventas\", conn, index=False)\n",
    "\n",
    "# Vista rápida\n",
    "print(\"Filas cargadas:\", len(df))\n",
    "df.head()\n"
   ]
  },
  {
   "cell_type": "code",
   "execution_count": null,
   "id": "4f2de70f",
   "metadata": {},
   "outputs": [],
   "source": [
    "# Ejecutar stg_ventas.sql\n",
    "sql_path = Path(\"/mnt/data/stg_ventas.sql\")\n",
    "with open(sql_path, \"r\", encoding=\"utf-8\") as f:\n",
    "    stg_sql = f.read()\n",
    "\n",
    "stg_df = pd.read_sql_query(stg_sql, conn)\n",
    "print(\"STG filas:\", len(stg_df))\n",
    "stg_df.head()\n"
   ]
  },
  {
   "cell_type": "code",
   "execution_count": null,
   "id": "633ad57c",
   "metadata": {},
   "outputs": [],
   "source": [
    "# Ejecutar trf_ventas.sql\n",
    "sql_path = Path(\"/mnt/data/trf_ventas.sql\")\n",
    "with open(sql_path, \"r\", encoding=\"utf-8\") as f:\n",
    "    trf_sql = f.read()\n",
    "\n",
    "trf_df = pd.read_sql_query(trf_sql, conn)\n",
    "print(\"TRF filas:\", len(trf_df))\n",
    "trf_df.head()\n"
   ]
  },
  {
   "cell_type": "code",
   "execution_count": null,
   "id": "21d222d1",
   "metadata": {},
   "outputs": [],
   "source": [
    "# Ejecutar agg_ventas_categoria.sql\n",
    "sql_path = Path(\"/mnt/data/agg_ventas_categoria.sql\")\n",
    "with open(sql_path, \"r\", encoding=\"utf-8\") as f:\n",
    "    agg_sql = f.read()\n",
    "\n",
    "agg_df = pd.read_sql_query(agg_sql, conn)\n",
    "agg_df\n"
   ]
  }
 ],
 "metadata": {},
 "nbformat": 4,
 "nbformat_minor": 5
}
