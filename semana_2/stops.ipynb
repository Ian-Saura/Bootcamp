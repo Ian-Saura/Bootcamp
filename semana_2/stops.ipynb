{
 "cells": [
  {
   "cell_type": "code",
   "execution_count": null,
   "id": "90f393a1",
   "metadata": {
    "vscode": {
     "languageId": "plaintext"
    }
   },
   "outputs": [],
   "source": [
    "# Crea dos datasets:\n",
    "# - ventas.csv (con algunos problemas reales para limpiar)\n",
    "# - ventas_pequenas.csv (mini CSV para lectura manual en Stop 2-2)\n",
    "\n",
    "import pandas as pd\n",
    "from io import StringIO\n",
    "\n",
    "raw_full = StringIO(\"\"\"producto,precio,cantidad,categoria\n",
    "Manzana,100,3,Fruta\n",
    "Banana,50,5,Fruta\n",
    "Pera,80,2,Fruta\n",
    "Notebook,350000,1,Electrónica\n",
    "Mouse,8000,2,Electrónica\n",
    "Manzana,100,,Fruta\n",
    "Banana,50,3,fruta\n",
    "Camisa,25000,1, Indumentaria\n",
    "Camisa ,25000,2,Indumentaria\n",
    "Mouse,8000,1,Electrónica\n",
    "Cargador,6000,1,Electrónica\n",
    "\"\"\")\n",
    "\n",
    "raw_small = StringIO(\"\"\"producto,precio,cantidad\n",
    "Manzana,100,3\n",
    "Banana,50,5\n",
    "Pera,80,2\n",
    "\"\"\")\n",
    "\n",
    "df_full = pd.read_csv(raw_full)\n",
    "df_small = pd.read_csv(raw_small)\n",
    "\n",
    "df_full.to_csv(\"ventas.csv\", index=False)               # para 2-3, 2-4, 2-5, 2-6\n",
    "df_small.to_csv(\"ventas_pequenas.csv\", index=False)     # para 2-2 (lectura manual)\n",
    "\n",
    "print(\"OK -> ventas.csv y ventas_pequenas.csv creados\")\n",
    "display(df_full.head())\n"
   ]
  },
  {
   "cell_type": "code",
   "execution_count": null,
   "id": "e5ea2c00",
   "metadata": {
    "vscode": {
     "languageId": "plaintext"
    }
   },
   "outputs": [],
   "source": [
    "#STOP 1\n",
    "\n",
    "# Diccionario con \"ventas\" (ojo: claves repetidas se pisan; lo forzamos vía lista de pares)\n",
    "ventas_pairs = [\n",
    "    (\"Juan\", 150),\n",
    "    (\"Ana\", 200),\n",
    "    (\"Luis\", 350),\n",
    "    (\"Ana\", 50),   # repetido -> hay que acumular\n",
    "]\n",
    "\n",
    "# 1) Convertir a lista de tuplas (ya lo es), y 2) sumar valores por cliente\n",
    "\n",
    "# Solución con acumulación manual\n",
    "totales = {}\n",
    "for cliente, total in ventas_pairs:\n",
    "    totales[cliente] = totales.get(cliente, 0) + total\n",
    "resultado_manual = list(totales.items())\n",
    "\n",
    "# Solución con Counter\n",
    "from collections import Counter\n",
    "resultado_counter = list(Counter(dict(resultado_manual)).items())  # idempotente\n",
    "\n",
    "print(\"Acumulación manual:\", resultado_manual)\n",
    "print(\"Con Counter:\", resultado_counter)\n"
   ]
  },
  {
   "cell_type": "code",
   "execution_count": null,
   "id": "0b03cb05",
   "metadata": {
    "vscode": {
     "languageId": "plaintext"
    }
   },
   "outputs": [],
   "source": [
    "STOP 2\n",
    "# Lectura manual de ventas_pequenas.csv usando split()\n",
    "with open(\"ventas_pequenas.csv\", \"r\", encoding=\"utf-8\") as f:\n",
    "    header = next(f)  # saltar encabezado\n",
    "    for linea in f:\n",
    "        producto, precio, cantidad = linea.strip().split(\",\")\n",
    "        total = int(precio) * int(cantidad)\n",
    "        print(producto, total)\n"
   ]
  },
  {
   "cell_type": "code",
   "execution_count": null,
   "id": "3c2c3b16",
   "metadata": {
    "vscode": {
     "languageId": "plaintext"
    }
   },
   "outputs": [],
   "source": [
    "import csv\n",
    "\n",
    "with open(\"ventas_pequenas.csv\", \"r\", encoding=\"utf-8\") as f:\n",
    "    reader = csv.reader(f)\n",
    "    next(reader)  # saltar encabezado\n",
    "    for producto, precio, cantidad in reader:\n",
    "        total = int(precio) * int(cantidad)\n",
    "        print(producto, total)\n"
   ]
  },
  {
   "cell_type": "code",
   "execution_count": null,
   "id": "a8c6b4de",
   "metadata": {
    "vscode": {
     "languageId": "plaintext"
    }
   },
   "outputs": [],
   "source": [
    "#STOP 3\n",
    "import pandas as pd\n",
    "\n",
    "df = pd.read_csv(\"ventas.csv\")\n",
    "display(df.head())\n",
    "print(\"\\nInfo:\")\n",
    "print(df.info())\n",
    "print(\"\\nShape:\", df.shape)\n",
    "print(\"\\nProductos únicos:\", df[\"producto\"].nunique())\n"
   ]
  },
  {
   "cell_type": "code",
   "execution_count": null,
   "id": "db208ec9",
   "metadata": {
    "vscode": {
     "languageId": "plaintext"
    }
   },
   "outputs": [],
   "source": [
    "#STOP 4\n",
    "import pandas as pd\n",
    "\n",
    "df = pd.read_csv(\"ventas.csv\")\n",
    "\n",
    "# Seleccionar columnas\n",
    "cols = df[[\"producto\", \"precio\"]]\n",
    "display(cols.head())\n",
    "\n",
    "# Filtrar filas con precio > 100\n",
    "filtro = df[df[\"precio\"] > 100][[\"producto\", \"precio\"]].head(10)\n",
    "print(\"\\nProductos con precio > 100 (Top 10):\")\n",
    "display(filtro)\n"
   ]
  },
  {
   "cell_type": "code",
   "execution_count": null,
   "id": "00c981c5",
   "metadata": {
    "vscode": {
     "languageId": "plaintext"
    }
   },
   "outputs": [],
   "source": [
    "#STOP 5\n",
    "import pandas as pd\n",
    "\n",
    "df = pd.read_csv(\"ventas.csv\")\n",
    "\n",
    "# 1) Crear 'ingresos' = precio * cantidad (habrá NaN si hay cantidad nula)\n",
    "df[\"ingresos\"] = df[\"precio\"] * df[\"cantidad\"]\n",
    "\n",
    "# 2) Renombrar 'producto' -> 'nombre_producto'\n",
    "df = df.rename(columns={\"producto\": \"nombre_producto\"})\n",
    "\n",
    "# 3) Reemplazar nulos en categoria\n",
    "df[\"categoria\"] = df[\"categoria\"].fillna(\"Sin categoría\")\n",
    "\n",
    "display(df.head(8))\n",
    "print(\"\\nNulos por columna:\")\n",
    "print(df.isna().sum())\n",
    "\n"
   ]
  },
  {
   "cell_type": "code",
   "execution_count": null,
   "id": "41af8fad",
   "metadata": {
    "vscode": {
     "languageId": "plaintext"
    }
   },
   "outputs": [],
   "source": [
    "#STOP 6\n",
    "import pandas as pd\n",
    "\n",
    "df = pd.read_csv(\"ventas.csv\")\n",
    "\n",
    "# Asegurar columnas base\n",
    "df[\"ingresos\"] = df[\"precio\"] * df[\"cantidad\"]\n",
    "df = df.rename(columns={\"producto\": \"nombre_producto\"})\n",
    "df[\"categoria\"] = df[\"categoria\"].fillna(\"Sin categoría\")\n",
    "\n",
    "# 1) Sumar ingresos por categoría\n",
    "ingresos_cat = (\n",
    "    df.groupby(\"categoria\")[\"ingresos\"]\n",
    "      .sum()\n",
    "      .sort_values(ascending=False)\n",
    ")\n",
    "print(\"Ingresos por categoría:\")\n",
    "display(ingresos_cat)\n",
    "\n",
    "# 2) Contar productos distintos por categoría\n",
    "productos_cat = (\n",
    "    df.groupby(\"categoria\")[\"nombre_producto\"]\n",
    "      .nunique()\n",
    "      .sort_values(ascending=False)\n",
    ")\n",
    "print(\"\\nProductos distintos por categoría:\")\n",
    "display(productos_cat)\n"
   ]
  }
 ],
 "metadata": {
  "language_info": {
   "name": "python"
  }
 },
 "nbformat": 4,
 "nbformat_minor": 5
}
