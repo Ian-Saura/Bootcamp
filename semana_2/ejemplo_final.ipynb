{
 "cells": [
  {
   "cell_type": "code",
   "execution_count": null,
   "id": "86fa9fd2",
   "metadata": {
    "vscode": {
     "languageId": "plaintext"
    }
   },
   "outputs": [],
   "source": [
    "import pandas as pd\n",
    "from io import StringIO\n",
    "raw = StringIO(\"\"\"producto,precio,cantidad,categoria\n",
    "Manzana,100,3,Fruta\n",
    "Banana,50,5,Fruta\n",
    "Pera,80,2,Fruta\n",
    "Notebook,350000,1,Electrónica\n",
    "Mouse,8000,2,Electrónica\n",
    "Manzana,100,,Fruta\n",
    "Banana,50,3,fruta\n",
    "Camisa,25000,1, Indumentaria\n",
    "Camisa ,25000,2,Indumentaria\n",
    "Mouse,8000,1,Electrónica\n",
    "\"\"\")\n",
    "df_raw = pd.read_csv(raw)\n",
    "df_raw.to_csv(\"ventas.csv\", index=False)\n",
    "print(\"Archivo creado: ventas.csv\")\n",
    "df_raw\n"
   ]
  },
  {
   "cell_type": "code",
   "execution_count": null,
   "id": "ccf851bb",
   "metadata": {
    "vscode": {
     "languageId": "plaintext"
    }
   },
   "outputs": [],
   "source": [
    "import pandas as pd\n",
    "\n",
    "df = pd.read_csv(\"ventas.csv\")\n",
    "display(df.head())\n",
    "print(\"\\nInfo:\")\n",
    "print(df.info())\n",
    "print(\"\\nShape:\", df.shape)\n"
   ]
  },
  {
   "cell_type": "code",
   "execution_count": null,
   "id": "a1614d3b",
   "metadata": {
    "vscode": {
     "languageId": "plaintext"
    }
   },
   "outputs": [],
   "source": [
    "df.columns = (\n",
    "    df.columns\n",
    "      .str.strip()\n",
    "      .str.lower()\n",
    "      .str.replace(\" \", \"_\")\n",
    ")\n",
    "df.head()\n"
   ]
  },
  {
   "cell_type": "code",
   "execution_count": null,
   "id": "1a7bdf74",
   "metadata": {
    "vscode": {
     "languageId": "plaintext"
    }
   },
   "outputs": [],
   "source": [
    "# strip en columnas de texto típicas\n",
    "for col in [\"producto\", \"categoria\"]:\n",
    "    if col in df.columns:\n",
    "        df[col] = df[col].astype(str).str.strip()\n",
    "\n",
    "# (Opcional) normalización simple de categoría\n",
    "if \"categoria\" in df.columns:\n",
    "    df[\"categoria\"] = df[\"categoria\"].str.title()\n",
    "\n",
    "# Duplicados exactos (opcional según dataset)\n",
    "dup_count = df.duplicated().sum()\n",
    "print(\"Duplicados exactos:\", dup_count)\n",
    "# df = df.drop_duplicates()\n",
    "\n",
    "df.head(10)\n"
   ]
  },
  {
   "cell_type": "code",
   "execution_count": null,
   "id": "72f763f1",
   "metadata": {
    "vscode": {
     "languageId": "plaintext"
    }
   },
   "outputs": [],
   "source": [
    "# Intento de casteo seguro\n",
    "if \"precio\" in df.columns:\n",
    "    df[\"precio\"] = pd.to_numeric(df[\"precio\"], errors=\"coerce\")\n",
    "if \"cantidad\" in df.columns:\n",
    "    df[\"cantidad\"] = pd.to_numeric(df[\"cantidad\"], errors=\"coerce\")\n",
    "\n",
    "print(\"Nulos por columna antes:\")\n",
    "print(df.isna().sum())\n",
    "\n",
    "# Estrategia propuesta (ajustá en vivo según sugieran):\n",
    "# - Si falta cantidad, la descarto (no puedo inventar unidades).\n",
    "# - Si falta categoría, la marco como \"Sin categoría\".\n",
    "# - Si falta precio y no hay manera de imputar, la descarto.\n",
    "\n",
    "subset_drop = []\n",
    "if \"cantidad\" in df.columns: subset_drop.append(\"cantidad\")\n",
    "if \"precio\"   in df.columns: subset_drop.append(\"precio\")\n",
    "\n",
    "df = df.dropna(subset=subset_drop)\n",
    "\n",
    "if \"categoria\" in df.columns:\n",
    "    df[\"categoria\"] = df[\"categoria\"].fillna(\"Sin Categoría\")\n",
    "\n",
    "print(\"\\nNulos por columna después:\")\n",
    "print(df.isna().sum())\n",
    "df.head()\n"
   ]
  },
  {
   "cell_type": "code",
   "execution_count": null,
   "id": "fa655a96",
   "metadata": {
    "vscode": {
     "languageId": "plaintext"
    }
   },
   "outputs": [],
   "source": [
    "resumen_producto = (\n",
    "    df.groupby(\"producto\", dropna=False)[\"ingresos\"]\n",
    "      .sum()\n",
    "      .reset_index()\n",
    "      .sort_values(\"ingresos\", ascending=False)\n",
    ")\n",
    "\n",
    "print(\"Top 10 productos por ingresos:\")\n",
    "resumen_producto.head(10)\n"
   ]
  },
  {
   "cell_type": "code",
   "execution_count": null,
   "id": "8c235315",
   "metadata": {
    "vscode": {
     "languageId": "plaintext"
    }
   },
   "outputs": [],
   "source": [
    "if \"categoria\" in df.columns:\n",
    "    resumen_categoria = (\n",
    "        df.groupby(\"categoria\", dropna=False)[\"ingresos\"]\n",
    "          .sum()\n",
    "          .reset_index()\n",
    "          .sort_values(\"ingresos\", ascending=False)\n",
    "    )\n",
    "    print(\"Ingresos por categoría:\")\n",
    "    resumen_categoria\n"
   ]
  },
  {
   "cell_type": "code",
   "execution_count": null,
   "id": "fb88c77d",
   "metadata": {
    "vscode": {
     "languageId": "plaintext"
    }
   },
   "outputs": [],
   "source": [
    "resumen_producto.to_csv(\"ventas_limpias.csv\", index=False)\n",
    "print(\"OK -> ventas_limpias.csv\")\n"
   ]
  },
  {
   "cell_type": "code",
   "execution_count": null,
   "id": "e7b067f0",
   "metadata": {
    "vscode": {
     "languageId": "plaintext"
    }
   },
   "outputs": [],
   "source": [
    "from datetime import datetime\n",
    "ts = datetime.now().strftime(\"%Y%m%d_%H%M%S\")\n",
    "resumen_producto.to_csv(f\"ventas_limpias_{ts}.csv\", index=False)\n",
    "print(f\"OK -> ventas_limpias_{ts}.csv\")\n"
   ]
  }
 ],
 "metadata": {
  "language_info": {
   "name": "python"
  }
 },
 "nbformat": 4,
 "nbformat_minor": 5
}
