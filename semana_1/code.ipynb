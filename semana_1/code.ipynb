{
 "cells": [
  {
   "cell_type": "code",
   "execution_count": null,
   "id": "02823632",
   "metadata": {},
   "outputs": [],
   "source": [
    "# etl_pandas_cron.py\n",
    "import pandas as pd\n",
    "import duckdb\n",
    "\n",
    "# ● Ingesta\n",
    "df = pd.read_csv('ventas.csv')\n",
    "\n",
    "# ● Transformación\n",
    "df = df.dropna(subset=['customer_name'])\n",
    "df['quantity'] = df['quantity'].fillna(1)\n",
    "df['total_price'] = df['quantity'] * df['price']\n",
    "\n",
    "# ● Almacenamiento + exposición rápida\n",
    "df.to_parquet('processed_sales.parquet', index=False)\n",
    "con = duckdb.connect('ventas.db')\n",
    "con.execute(\"CREATE TABLE IF NOT EXISTS sales AS SELECT * FROM df\")\n",
    "print(con.execute(\"\"\"\n",
    "    SELECT product, SUM(total_price) AS total\n",
    "    FROM sales\n",
    "    GROUP BY product\n",
    "    ORDER BY total DESC LIMIT 5\n",
    "\"\"\").df())"
   ]
  },
  {
   "cell_type": "code",
   "execution_count": null,
   "id": "f9693c68",
   "metadata": {},
   "outputs": [],
   "source": [
    "0 3 * * * /usr/bin/python3 /home/usuario/etl_semana1.py >> /home/usuario/logs/etl_semana1.log 2>&1\n"
   ]
  },
  {
   "cell_type": "code",
   "execution_count": null,
   "id": "f0779f47",
   "metadata": {},
   "outputs": [],
   "source": [
    "\"\"\"\n",
    "3. Redirección de salida y logs\n",
    "\n",
    ">> /home/usuario/logs/etl_semana1.log 2>&1\n",
    ">> → añade la salida al final del archivo (no lo sobreescribe).\n",
    "\n",
    "/home/usuario/logs/etl_semana1.log → archivo donde se guardará el log.\n",
    "\n",
    "2>&1 → redirige también los errores (stderr) al mismo archivo de log.\n",
    "\n",
    "En la práctica:\n",
    "Todo lo que imprima tu script (print, mensajes, errores) queda registrado en /home/usuario/logs/etl_semana1.log.\n",
    "\"\"\""
   ]
  },
  {
   "cell_type": "code",
   "execution_count": null,
   "id": "5a89fd9c",
   "metadata": {},
   "outputs": [
    {
     "name": "stdout",
     "output_type": "stream",
     "text": [
      "Thu Aug  7 17:32:40 EDT 2025\n"
     ]
    }
   ],
   "source": [
    "!date"
   ]
  },
  {
   "cell_type": "code",
   "execution_count": null,
   "id": "3a6e3aa4",
   "metadata": {},
   "outputs": [],
   "source": []
  },
  {
   "cell_type": "code",
   "execution_count": null,
   "id": "955f3303",
   "metadata": {},
   "outputs": [],
   "source": []
  },
  {
   "cell_type": "code",
   "execution_count": null,
   "id": "1d322151",
   "metadata": {},
   "outputs": [],
   "source": []
  },
  {
   "cell_type": "code",
   "execution_count": null,
   "id": "212c65ca",
   "metadata": {},
   "outputs": [],
   "source": []
  }
 ],
 "metadata": {
  "kernelspec": {
   "display_name": "Python 3",
   "language": "python",
   "name": "python3"
  },
  "language_info": {
   "codemirror_mode": {
    "name": "ipython",
    "version": 3
   },
   "file_extension": ".py",
   "mimetype": "text/x-python",
   "name": "python",
   "nbconvert_exporter": "python",
   "pygments_lexer": "ipython3",
   "version": "3.12.4"
  }
 },
 "nbformat": 4,
 "nbformat_minor": 5
}
